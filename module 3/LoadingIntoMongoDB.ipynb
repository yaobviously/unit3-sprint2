{
 "cells": [
  {
   "cell_type": "code",
   "execution_count": 2,
   "id": "1bbb6306",
   "metadata": {},
   "outputs": [],
   "source": [
    "import psycopg2 as pg2\n",
    "import sqlite3 as sql\n",
    "import pymongo"
   ]
  },
  {
   "cell_type": "code",
   "execution_count": 4,
   "id": "83806b4d",
   "metadata": {},
   "outputs": [],
   "source": [
    "password = '9tFGBoeojj1Ap3P7'\n",
    "dbname = 'charactercreator_characters'\n",
    "\n",
    "client = pymongo.MongoClient(\n",
    "    \"mongodb+srv://jason_young:{}@cluster0.xc04m.mongodb.net/{}?retryWrites=true&w=majority\"\n",
    "    .format(password, dbname))"
   ]
  },
  {
   "cell_type": "code",
   "execution_count": 8,
   "id": "ea977207",
   "metadata": {},
   "outputs": [],
   "source": [
    "sql_conn = sql.connect(r\"C:\\Users\\yaobv\\Lambda Unit 3 Sprint 2\\Databases\\data\\rpg_db.sqlite3\")\n",
    "curs = sql_conn.cursor()"
   ]
  },
  {
   "cell_type": "code",
   "execution_count": 16,
   "id": "0f3c0c6d",
   "metadata": {},
   "outputs": [],
   "source": [
    "db = client.charactercreator_characters\n",
    "collection = db.character_table"
   ]
  },
  {
   "cell_type": "code",
   "execution_count": 27,
   "id": "91ce8007",
   "metadata": {},
   "outputs": [],
   "source": [
    "\"\"\" Fetching the three relevant tables from the SQLite database \"\"\"\n",
    "\n",
    "char_traits = curs.execute('SELECT * FROM charactercreator_character').fetchall()\n",
    "char_items = curs.execute('SELECT * FROM charactercreator_character_inventory').fetchall()\n",
    "char_weapons = curs.execute('SELECT * FROM armory_weapon').fetchall()"
   ]
  },
  {
   "cell_type": "code",
   "execution_count": 36,
   "id": "23be0e2c",
   "metadata": {},
   "outputs": [],
   "source": [
    "\"\"\"Creating a list of all the items that are classified as weapons\"\"\"\n",
    "\n",
    "weapons = []\n",
    "\n",
    "for w in char_weapons:\n",
    "    weapons.append(w[0])"
   ]
  },
  {
   "cell_type": "code",
   "execution_count": 60,
   "id": "ba3a2925",
   "metadata": {},
   "outputs": [],
   "source": [
    "\"\"\"\n",
    "Creating expanded character documents that includes character items and weapons. Note that instead of 'insert_one' \n",
    "we could append each dictionary to a list (expanded_char below) and use 'insert_many'\n",
    "\"\"\"\n",
    "\n",
    "# expanded_char = []\n",
    "\n",
    "for w in char_traits:\n",
    "    key = w[0]\n",
    "    \n",
    "    char_bag = []\n",
    "    char_weapons = []\n",
    "    \n",
    "    for item in char_items:\n",
    "        if item[1] == key:\n",
    "            char_bag.append(item)\n",
    "            \n",
    "    for poss in char_bag:\n",
    "        if poss[2] in weapons:\n",
    "            char_weapons.append(item)\n",
    "            \n",
    "    character_doc = {\n",
    "        \"name\" : w[1],\n",
    "        \"level\" : w[2],\n",
    "        \"exp\" : w[3],\n",
    "        \"hp\" : w[4],\n",
    "        \"strength\" : w[5],\n",
    "        \"intelligence\" : w[6],\n",
    "        \"dexterity\" : w[7],\n",
    "        \"wisdom\" : w[8],\n",
    "        \"items\" : char_bag,\n",
    "        \"weapons\" : char_weapons\n",
    "    }\n",
    "    \n",
    "    collection.insert_one(character_doc)\n",
    "    "
   ]
  },
  {
   "cell_type": "markdown",
   "id": "bdc554b8",
   "metadata": {},
   "source": [
    "# \"How was working with MongoDB different from working with PostgreSQL? What was easier, and what was harder?\"\n",
    "\n",
    "It was more difficult to work with MongoDB because the info I needed to collate related data was nested inside of unrelated data. Instead of being able to access and match keys using straightforward declarative language, I had to think of how to access and match keys using for-loops to build the documents I wanted to insert. MongoDB requires more coding know-how and more effort to decode and encode different documents as needed. \n",
    "\n",
    "Unfortunately I ran the above cell twice so now I have duplicate documents in my collection, but I'll figure it out. It's a good incentive to consult the docs."
   ]
  }
 ],
 "metadata": {
  "kernelspec": {
   "display_name": "Python 3",
   "language": "python",
   "name": "python3"
  },
  "language_info": {
   "codemirror_mode": {
    "name": "ipython",
    "version": 3
   },
   "file_extension": ".py",
   "mimetype": "text/x-python",
   "name": "python",
   "nbconvert_exporter": "python",
   "pygments_lexer": "ipython3",
   "version": "3.9.5"
  }
 },
 "nbformat": 4,
 "nbformat_minor": 5
}
